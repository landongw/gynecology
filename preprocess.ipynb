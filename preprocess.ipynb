{
 "cells": [
  {
   "cell_type": "code",
   "execution_count": 1,
   "metadata": {
    "collapsed": true
   },
   "outputs": [],
   "source": [
    "import pandas as pd\n",
    "import numpy as np\n",
    "import os\n",
    "import matplotlib.pyplot as plt\n",
    "%matplotlib inline"
   ]
  },
  {
   "cell_type": "code",
   "execution_count": 2,
   "metadata": {
    "collapsed": true
   },
   "outputs": [],
   "source": [
    "raw_data_dir = \"/data/put_data/cmchang/gynecology/raw_data/\"\n",
    "process_data_dir = \"/data/put_data/cmchang/gynecology/data/\""
   ]
  },
  {
   "cell_type": "code",
   "execution_count": 4,
   "metadata": {},
   "outputs": [
    {
     "name": "stdout",
     "output_type": "stream",
     "text": [
      "dx.shape = (128760, 68), dy.shape = (213, 12)\n"
     ]
    }
   ],
   "source": [
    "dx = pd.read_csv(os.path.join(raw_data_dir, 'data_20180911.csv'))\n",
    "dy = pd.read_csv(os.path.join(raw_data_dir, 'interpretation_new_180927.csv'))\n",
    "\n",
    "print(\"dx.shape = %s, dy.shape = %s\" % (dx.shape, dy.shape))"
   ]
  },
  {
   "cell_type": "code",
   "execution_count": 5,
   "metadata": {},
   "outputs": [
    {
     "data": {
      "text/html": [
       "<div>\n",
       "<style>\n",
       "    .dataframe thead tr:only-child th {\n",
       "        text-align: right;\n",
       "    }\n",
       "\n",
       "    .dataframe thead th {\n",
       "        text-align: left;\n",
       "    }\n",
       "\n",
       "    .dataframe tbody tr th {\n",
       "        vertical-align: top;\n",
       "    }\n",
       "</style>\n",
       "<table border=\"1\" class=\"dataframe\">\n",
       "  <thead>\n",
       "    <tr style=\"text-align: right;\">\n",
       "      <th></th>\n",
       "      <th>counter</th>\n",
       "      <th>machine_type</th>\n",
       "      <th>type</th>\n",
       "      <th>bed</th>\n",
       "      <th>mins_diff</th>\n",
       "      <th>datetime</th>\n",
       "      <th>date</th>\n",
       "      <th>time</th>\n",
       "      <th>_00</th>\n",
       "      <th>_01</th>\n",
       "      <th>...</th>\n",
       "      <th>_50</th>\n",
       "      <th>_51</th>\n",
       "      <th>_52</th>\n",
       "      <th>_53</th>\n",
       "      <th>_54</th>\n",
       "      <th>_55</th>\n",
       "      <th>_56</th>\n",
       "      <th>_57</th>\n",
       "      <th>_58</th>\n",
       "      <th>_59</th>\n",
       "    </tr>\n",
       "  </thead>\n",
       "  <tbody>\n",
       "    <tr>\n",
       "      <th>0</th>\n",
       "      <td>1</td>\n",
       "      <td>1</td>\n",
       "      <td>1</td>\n",
       "      <td>01</td>\n",
       "      <td>2025496</td>\n",
       "      <td>2011-04-07 14:16:00</td>\n",
       "      <td>2011-04-07</td>\n",
       "      <td>14:16:00</td>\n",
       "      <td>0</td>\n",
       "      <td>46</td>\n",
       "      <td>...</td>\n",
       "      <td>24</td>\n",
       "      <td>22</td>\n",
       "      <td>24</td>\n",
       "      <td>22</td>\n",
       "      <td>21</td>\n",
       "      <td>22</td>\n",
       "      <td>20</td>\n",
       "      <td>20</td>\n",
       "      <td>20</td>\n",
       "      <td>22</td>\n",
       "    </tr>\n",
       "    <tr>\n",
       "      <th>1</th>\n",
       "      <td>2</td>\n",
       "      <td>1</td>\n",
       "      <td>2</td>\n",
       "      <td>01</td>\n",
       "      <td>2025496</td>\n",
       "      <td>2011-04-07 14:16:00</td>\n",
       "      <td>2011-04-07</td>\n",
       "      <td>14:16:00</td>\n",
       "      <td>0</td>\n",
       "      <td>138</td>\n",
       "      <td>...</td>\n",
       "      <td>141</td>\n",
       "      <td>140</td>\n",
       "      <td>141</td>\n",
       "      <td>140</td>\n",
       "      <td>140</td>\n",
       "      <td>141</td>\n",
       "      <td>140</td>\n",
       "      <td>138</td>\n",
       "      <td>139</td>\n",
       "      <td>139</td>\n",
       "    </tr>\n",
       "    <tr>\n",
       "      <th>2</th>\n",
       "      <td>3</td>\n",
       "      <td>1</td>\n",
       "      <td>3</td>\n",
       "      <td>01</td>\n",
       "      <td>2025496</td>\n",
       "      <td>2011-04-07 14:16:00</td>\n",
       "      <td>2011-04-07</td>\n",
       "      <td>14:16:00</td>\n",
       "      <td>0</td>\n",
       "      <td>0</td>\n",
       "      <td>...</td>\n",
       "      <td>0</td>\n",
       "      <td>0</td>\n",
       "      <td>0</td>\n",
       "      <td>0</td>\n",
       "      <td>0</td>\n",
       "      <td>0</td>\n",
       "      <td>0</td>\n",
       "      <td>0</td>\n",
       "      <td>0</td>\n",
       "      <td>0</td>\n",
       "    </tr>\n",
       "    <tr>\n",
       "      <th>3</th>\n",
       "      <td>4</td>\n",
       "      <td>1</td>\n",
       "      <td>1</td>\n",
       "      <td>01</td>\n",
       "      <td>2025497</td>\n",
       "      <td>2011-04-07 14:17:00</td>\n",
       "      <td>2011-04-07</td>\n",
       "      <td>14:17:00</td>\n",
       "      <td>20</td>\n",
       "      <td>20</td>\n",
       "      <td>...</td>\n",
       "      <td>22</td>\n",
       "      <td>20</td>\n",
       "      <td>0</td>\n",
       "      <td>21</td>\n",
       "      <td>21</td>\n",
       "      <td>21</td>\n",
       "      <td>22</td>\n",
       "      <td>23</td>\n",
       "      <td>24</td>\n",
       "      <td>25</td>\n",
       "    </tr>\n",
       "    <tr>\n",
       "      <th>4</th>\n",
       "      <td>5</td>\n",
       "      <td>1</td>\n",
       "      <td>2</td>\n",
       "      <td>01</td>\n",
       "      <td>2025497</td>\n",
       "      <td>2011-04-07 14:17:00</td>\n",
       "      <td>2011-04-07</td>\n",
       "      <td>14:17:00</td>\n",
       "      <td>138</td>\n",
       "      <td>138</td>\n",
       "      <td>...</td>\n",
       "      <td>140</td>\n",
       "      <td>139</td>\n",
       "      <td>0</td>\n",
       "      <td>138</td>\n",
       "      <td>137</td>\n",
       "      <td>137</td>\n",
       "      <td>138</td>\n",
       "      <td>138</td>\n",
       "      <td>138</td>\n",
       "      <td>138</td>\n",
       "    </tr>\n",
       "  </tbody>\n",
       "</table>\n",
       "<p>5 rows × 68 columns</p>\n",
       "</div>"
      ],
      "text/plain": [
       "   counter  machine_type  type bed  mins_diff             datetime  \\\n",
       "0        1             1     1  01    2025496  2011-04-07 14:16:00   \n",
       "1        2             1     2  01    2025496  2011-04-07 14:16:00   \n",
       "2        3             1     3  01    2025496  2011-04-07 14:16:00   \n",
       "3        4             1     1  01    2025497  2011-04-07 14:17:00   \n",
       "4        5             1     2  01    2025497  2011-04-07 14:17:00   \n",
       "\n",
       "         date      time  _00  _01 ...   _50  _51  _52  _53  _54  _55  _56  \\\n",
       "0  2011-04-07  14:16:00    0   46 ...    24   22   24   22   21   22   20   \n",
       "1  2011-04-07  14:16:00    0  138 ...   141  140  141  140  140  141  140   \n",
       "2  2011-04-07  14:16:00    0    0 ...     0    0    0    0    0    0    0   \n",
       "3  2011-04-07  14:17:00   20   20 ...    22   20    0   21   21   21   22   \n",
       "4  2011-04-07  14:17:00  138  138 ...   140  139    0  138  137  137  138   \n",
       "\n",
       "   _57  _58  _59  \n",
       "0   20   20   22  \n",
       "1  138  139  139  \n",
       "2    0    0    0  \n",
       "3   23   24   25  \n",
       "4  138  138  138  \n",
       "\n",
       "[5 rows x 68 columns]"
      ]
     },
     "execution_count": 5,
     "metadata": {},
     "output_type": "execute_result"
    }
   ],
   "source": [
    "dx.head()"
   ]
  },
  {
   "cell_type": "code",
   "execution_count": 6,
   "metadata": {},
   "outputs": [
    {
     "data": {
      "text/html": [
       "<div>\n",
       "<style>\n",
       "    .dataframe thead tr:only-child th {\n",
       "        text-align: right;\n",
       "    }\n",
       "\n",
       "    .dataframe thead th {\n",
       "        text-align: left;\n",
       "    }\n",
       "\n",
       "    .dataframe tbody tr th {\n",
       "        vertical-align: top;\n",
       "    }\n",
       "</style>\n",
       "<table border=\"1\" class=\"dataframe\">\n",
       "  <thead>\n",
       "    <tr style=\"text-align: right;\">\n",
       "      <th></th>\n",
       "      <th>ID</th>\n",
       "      <th>bed</th>\n",
       "      <th>date</th>\n",
       "      <th>start</th>\n",
       "      <th>end</th>\n",
       "      <th>FHB</th>\n",
       "      <th>variability</th>\n",
       "      <th>UA</th>\n",
       "      <th>UA_duration</th>\n",
       "      <th>UA_interval</th>\n",
       "      <th>deceleration</th>\n",
       "      <th>management</th>\n",
       "    </tr>\n",
       "  </thead>\n",
       "  <tbody>\n",
       "    <tr>\n",
       "      <th>0</th>\n",
       "      <td>288427</td>\n",
       "      <td>LDR1</td>\n",
       "      <td>2013-01-15</td>\n",
       "      <td>17:20</td>\n",
       "      <td>17:30</td>\n",
       "      <td>140</td>\n",
       "      <td>0</td>\n",
       "      <td>0</td>\n",
       "      <td>0.0</td>\n",
       "      <td>NaN</td>\n",
       "      <td>0</td>\n",
       "      <td>0</td>\n",
       "    </tr>\n",
       "    <tr>\n",
       "      <th>1</th>\n",
       "      <td>288427</td>\n",
       "      <td>LDR1</td>\n",
       "      <td>2013-01-15</td>\n",
       "      <td>17:54</td>\n",
       "      <td>18:04</td>\n",
       "      <td>140</td>\n",
       "      <td>0</td>\n",
       "      <td>1</td>\n",
       "      <td>60.0</td>\n",
       "      <td>120.0</td>\n",
       "      <td>2</td>\n",
       "      <td>1</td>\n",
       "    </tr>\n",
       "    <tr>\n",
       "      <th>2</th>\n",
       "      <td>288427</td>\n",
       "      <td>LDR1</td>\n",
       "      <td>2013-01-15</td>\n",
       "      <td>18:15</td>\n",
       "      <td>18:25</td>\n",
       "      <td>155</td>\n",
       "      <td>0</td>\n",
       "      <td>0</td>\n",
       "      <td>0.0</td>\n",
       "      <td>NaN</td>\n",
       "      <td>2</td>\n",
       "      <td>1</td>\n",
       "    </tr>\n",
       "    <tr>\n",
       "      <th>3</th>\n",
       "      <td>288427</td>\n",
       "      <td>LDR1</td>\n",
       "      <td>2013-01-15</td>\n",
       "      <td>18:29</td>\n",
       "      <td>18:39</td>\n",
       "      <td>150</td>\n",
       "      <td>0</td>\n",
       "      <td>0</td>\n",
       "      <td>0.0</td>\n",
       "      <td>NaN</td>\n",
       "      <td>2</td>\n",
       "      <td>1</td>\n",
       "    </tr>\n",
       "    <tr>\n",
       "      <th>4</th>\n",
       "      <td>288427</td>\n",
       "      <td>LDR1</td>\n",
       "      <td>2013-01-15</td>\n",
       "      <td>18:39</td>\n",
       "      <td>18:49</td>\n",
       "      <td>155</td>\n",
       "      <td>0</td>\n",
       "      <td>1</td>\n",
       "      <td>120.0</td>\n",
       "      <td>60.0</td>\n",
       "      <td>2</td>\n",
       "      <td>1</td>\n",
       "    </tr>\n",
       "  </tbody>\n",
       "</table>\n",
       "</div>"
      ],
      "text/plain": [
       "       ID   bed        date  start    end  FHB  variability  UA  UA_duration  \\\n",
       "0  288427  LDR1  2013-01-15  17:20  17:30  140            0   0          0.0   \n",
       "1  288427  LDR1  2013-01-15  17:54  18:04  140            0   1         60.0   \n",
       "2  288427  LDR1  2013-01-15  18:15  18:25  155            0   0          0.0   \n",
       "3  288427  LDR1  2013-01-15  18:29  18:39  150            0   0          0.0   \n",
       "4  288427  LDR1  2013-01-15  18:39  18:49  155            0   1        120.0   \n",
       "\n",
       "   UA_interval  deceleration  management  \n",
       "0          NaN             0           0  \n",
       "1        120.0             2           1  \n",
       "2          NaN             2           1  \n",
       "3          NaN             2           1  \n",
       "4         60.0             2           1  "
      ]
     },
     "execution_count": 6,
     "metadata": {},
     "output_type": "execute_result"
    }
   ],
   "source": [
    "dy.head()"
   ]
  },
  {
   "cell_type": "markdown",
   "metadata": {},
   "source": [
    "#### remove X but without Y"
   ]
  },
  {
   "cell_type": "code",
   "execution_count": 7,
   "metadata": {},
   "outputs": [
    {
     "name": "stdout",
     "output_type": "stream",
     "text": [
      "dx.shape = (62380, 68), dy.shape = (213, 12)\n"
     ]
    }
   ],
   "source": [
    "selector = [k in set(dy.date) for k in dx.date]\n",
    "\n",
    "dx = dx[selector]\n",
    "\n",
    "print(\"dx.shape = %s, dy.shape = %s\" % (dx.shape, dy.shape))"
   ]
  },
  {
   "cell_type": "markdown",
   "metadata": {},
   "source": [
    "#### create key"
   ]
  },
  {
   "cell_type": "code",
   "execution_count": 8,
   "metadata": {
    "collapsed": true
   },
   "outputs": [],
   "source": [
    "dx['seconds'] = (pd.to_datetime(dx.datetime) - pd.to_datetime(dx.date)).dt.seconds\n",
    "dx['key'] = dx.apply(lambda row: str(row['date']) +' '+ str(row['seconds']), axis=1)"
   ]
  },
  {
   "cell_type": "code",
   "execution_count": 9,
   "metadata": {
    "collapsed": true
   },
   "outputs": [],
   "source": [
    "dy['datetime'] = dy.date + ' ' + dy.start\n",
    "dy['seconds'] = (pd.to_datetime(dy.datetime) - pd.to_datetime(dy.date)).dt.seconds\n",
    "dy['key'] = dy.apply(lambda row: str(row['date']) +' '+ str(row['seconds']), axis=1)"
   ]
  },
  {
   "cell_type": "markdown",
   "metadata": {},
   "source": [
    "#### remove Y but without X"
   ]
  },
  {
   "cell_type": "code",
   "execution_count": 10,
   "metadata": {
    "collapsed": true
   },
   "outputs": [],
   "source": [
    "selector = [k in set(dx.key) for k in dy.key]\n",
    "\n",
    "dy = dy[selector]"
   ]
  },
  {
   "cell_type": "code",
   "execution_count": 11,
   "metadata": {},
   "outputs": [
    {
     "name": "stdout",
     "output_type": "stream",
     "text": [
      "all labels have corresponding inputs.\n"
     ]
    }
   ],
   "source": [
    "if set(dy.key) - set(dx.key):\n",
    "    print('%i labels have no inputs.' % len(set(dy.key) - set(dx.key)))\n",
    "    print(set(dy.key) - set(dx.key))\n",
    "else:\n",
    "    print('all labels have corresponding inputs.')\n"
   ]
  },
  {
   "cell_type": "code",
   "execution_count": 12,
   "metadata": {},
   "outputs": [
    {
     "data": {
      "text/html": [
       "<div>\n",
       "<style>\n",
       "    .dataframe thead tr:only-child th {\n",
       "        text-align: right;\n",
       "    }\n",
       "\n",
       "    .dataframe thead th {\n",
       "        text-align: left;\n",
       "    }\n",
       "\n",
       "    .dataframe tbody tr th {\n",
       "        vertical-align: top;\n",
       "    }\n",
       "</style>\n",
       "<table border=\"1\" class=\"dataframe\">\n",
       "  <thead>\n",
       "    <tr style=\"text-align: right;\">\n",
       "      <th></th>\n",
       "      <th>ID</th>\n",
       "      <th>bed</th>\n",
       "      <th>date</th>\n",
       "      <th>start</th>\n",
       "      <th>end</th>\n",
       "      <th>FHB</th>\n",
       "      <th>variability</th>\n",
       "      <th>UA</th>\n",
       "      <th>UA_duration</th>\n",
       "      <th>UA_interval</th>\n",
       "      <th>deceleration</th>\n",
       "      <th>management</th>\n",
       "      <th>datetime</th>\n",
       "      <th>seconds</th>\n",
       "      <th>key</th>\n",
       "    </tr>\n",
       "  </thead>\n",
       "  <tbody>\n",
       "    <tr>\n",
       "      <th>134</th>\n",
       "      <td>324546</td>\n",
       "      <td>LDR1</td>\n",
       "      <td>2015-08-28</td>\n",
       "      <td>18:27</td>\n",
       "      <td>18:35</td>\n",
       "      <td>135</td>\n",
       "      <td>0</td>\n",
       "      <td>1</td>\n",
       "      <td>90.0</td>\n",
       "      <td>60.0</td>\n",
       "      <td>0</td>\n",
       "      <td>0</td>\n",
       "      <td>2015-08-28 18:27</td>\n",
       "      <td>66420</td>\n",
       "      <td>2015-08-28 66420</td>\n",
       "    </tr>\n",
       "  </tbody>\n",
       "</table>\n",
       "</div>"
      ],
      "text/plain": [
       "         ID   bed        date  start    end  FHB  variability  UA  \\\n",
       "134  324546  LDR1  2015-08-28  18:27  18:35  135            0   1   \n",
       "\n",
       "     UA_duration  UA_interval  deceleration  management          datetime  \\\n",
       "134         90.0         60.0             0           0  2015-08-28 18:27   \n",
       "\n",
       "     seconds               key  \n",
       "134    66420  2015-08-28 66420  "
      ]
     },
     "execution_count": 12,
     "metadata": {},
     "output_type": "execute_result"
    }
   ],
   "source": [
    "# only have 8 minutes ... (?)\n",
    "dy[dy.key=='2015-08-28 66420']"
   ]
  },
  {
   "cell_type": "code",
   "execution_count": 13,
   "metadata": {
    "collapsed": true
   },
   "outputs": [],
   "source": [
    "dy.drop(dy.index[list(dy.key).index('2015-08-28 66420')], inplace=True)"
   ]
  },
  {
   "cell_type": "code",
   "execution_count": 14,
   "metadata": {
    "collapsed": true
   },
   "outputs": [],
   "source": [
    "dy.sort_values('key', inplace=True)"
   ]
  },
  {
   "cell_type": "code",
   "execution_count": 15,
   "metadata": {
    "collapsed": true
   },
   "outputs": [],
   "source": [
    "dy.reset_index(inplace=True)\n",
    "dy.drop('index', axis=1, inplace=True)"
   ]
  },
  {
   "cell_type": "code",
   "execution_count": 16,
   "metadata": {},
   "outputs": [
    {
     "data": {
      "text/html": [
       "<div>\n",
       "<style>\n",
       "    .dataframe thead tr:only-child th {\n",
       "        text-align: right;\n",
       "    }\n",
       "\n",
       "    .dataframe thead th {\n",
       "        text-align: left;\n",
       "    }\n",
       "\n",
       "    .dataframe tbody tr th {\n",
       "        vertical-align: top;\n",
       "    }\n",
       "</style>\n",
       "<table border=\"1\" class=\"dataframe\">\n",
       "  <thead>\n",
       "    <tr style=\"text-align: right;\">\n",
       "      <th></th>\n",
       "      <th>ID</th>\n",
       "      <th>bed</th>\n",
       "      <th>date</th>\n",
       "      <th>start</th>\n",
       "      <th>end</th>\n",
       "      <th>FHB</th>\n",
       "      <th>variability</th>\n",
       "      <th>UA</th>\n",
       "      <th>UA_duration</th>\n",
       "      <th>UA_interval</th>\n",
       "      <th>deceleration</th>\n",
       "      <th>management</th>\n",
       "      <th>datetime</th>\n",
       "      <th>seconds</th>\n",
       "      <th>key</th>\n",
       "    </tr>\n",
       "  </thead>\n",
       "  <tbody>\n",
       "    <tr>\n",
       "      <th>0</th>\n",
       "      <td>288427</td>\n",
       "      <td>LDR1</td>\n",
       "      <td>2013-01-15</td>\n",
       "      <td>17:20</td>\n",
       "      <td>17:30</td>\n",
       "      <td>140</td>\n",
       "      <td>0</td>\n",
       "      <td>0</td>\n",
       "      <td>0.0</td>\n",
       "      <td>NaN</td>\n",
       "      <td>0</td>\n",
       "      <td>0</td>\n",
       "      <td>2013-01-15 17:20</td>\n",
       "      <td>62400</td>\n",
       "      <td>2013-01-15 62400</td>\n",
       "    </tr>\n",
       "    <tr>\n",
       "      <th>1</th>\n",
       "      <td>288427</td>\n",
       "      <td>LDR1</td>\n",
       "      <td>2013-01-15</td>\n",
       "      <td>17:54</td>\n",
       "      <td>18:04</td>\n",
       "      <td>140</td>\n",
       "      <td>0</td>\n",
       "      <td>1</td>\n",
       "      <td>60.0</td>\n",
       "      <td>120.0</td>\n",
       "      <td>2</td>\n",
       "      <td>1</td>\n",
       "      <td>2013-01-15 17:54</td>\n",
       "      <td>64440</td>\n",
       "      <td>2013-01-15 64440</td>\n",
       "    </tr>\n",
       "    <tr>\n",
       "      <th>2</th>\n",
       "      <td>288427</td>\n",
       "      <td>LDR1</td>\n",
       "      <td>2013-01-15</td>\n",
       "      <td>18:15</td>\n",
       "      <td>18:25</td>\n",
       "      <td>155</td>\n",
       "      <td>0</td>\n",
       "      <td>0</td>\n",
       "      <td>0.0</td>\n",
       "      <td>NaN</td>\n",
       "      <td>2</td>\n",
       "      <td>1</td>\n",
       "      <td>2013-01-15 18:15</td>\n",
       "      <td>65700</td>\n",
       "      <td>2013-01-15 65700</td>\n",
       "    </tr>\n",
       "    <tr>\n",
       "      <th>3</th>\n",
       "      <td>288427</td>\n",
       "      <td>LDR1</td>\n",
       "      <td>2013-01-15</td>\n",
       "      <td>18:29</td>\n",
       "      <td>18:39</td>\n",
       "      <td>150</td>\n",
       "      <td>0</td>\n",
       "      <td>0</td>\n",
       "      <td>0.0</td>\n",
       "      <td>NaN</td>\n",
       "      <td>2</td>\n",
       "      <td>1</td>\n",
       "      <td>2013-01-15 18:29</td>\n",
       "      <td>66540</td>\n",
       "      <td>2013-01-15 66540</td>\n",
       "    </tr>\n",
       "    <tr>\n",
       "      <th>4</th>\n",
       "      <td>288427</td>\n",
       "      <td>LDR1</td>\n",
       "      <td>2013-01-15</td>\n",
       "      <td>18:39</td>\n",
       "      <td>18:49</td>\n",
       "      <td>155</td>\n",
       "      <td>0</td>\n",
       "      <td>1</td>\n",
       "      <td>120.0</td>\n",
       "      <td>60.0</td>\n",
       "      <td>2</td>\n",
       "      <td>1</td>\n",
       "      <td>2013-01-15 18:39</td>\n",
       "      <td>67140</td>\n",
       "      <td>2013-01-15 67140</td>\n",
       "    </tr>\n",
       "  </tbody>\n",
       "</table>\n",
       "</div>"
      ],
      "text/plain": [
       "       ID   bed        date  start    end  FHB  variability  UA  UA_duration  \\\n",
       "0  288427  LDR1  2013-01-15  17:20  17:30  140            0   0          0.0   \n",
       "1  288427  LDR1  2013-01-15  17:54  18:04  140            0   1         60.0   \n",
       "2  288427  LDR1  2013-01-15  18:15  18:25  155            0   0          0.0   \n",
       "3  288427  LDR1  2013-01-15  18:29  18:39  150            0   0          0.0   \n",
       "4  288427  LDR1  2013-01-15  18:39  18:49  155            0   1        120.0   \n",
       "\n",
       "   UA_interval  deceleration  management          datetime  seconds  \\\n",
       "0          NaN             0           0  2013-01-15 17:20    62400   \n",
       "1        120.0             2           1  2013-01-15 17:54    64440   \n",
       "2          NaN             2           1  2013-01-15 18:15    65700   \n",
       "3          NaN             2           1  2013-01-15 18:29    66540   \n",
       "4         60.0             2           1  2013-01-15 18:39    67140   \n",
       "\n",
       "                key  \n",
       "0  2013-01-15 62400  \n",
       "1  2013-01-15 64440  \n",
       "2  2013-01-15 65700  \n",
       "3  2013-01-15 66540  \n",
       "4  2013-01-15 67140  "
      ]
     },
     "execution_count": 16,
     "metadata": {},
     "output_type": "execute_result"
    }
   ],
   "source": [
    "dy.head()"
   ]
  },
  {
   "cell_type": "code",
   "execution_count": 18,
   "metadata": {
    "collapsed": true
   },
   "outputs": [],
   "source": [
    "mm_dx = dx[dx.type==1]\n",
    "bb_dx = dx[dx.type==2]"
   ]
  },
  {
   "cell_type": "code",
   "execution_count": 19,
   "metadata": {},
   "outputs": [
    {
     "data": {
      "text/html": [
       "<div>\n",
       "<style>\n",
       "    .dataframe thead tr:only-child th {\n",
       "        text-align: right;\n",
       "    }\n",
       "\n",
       "    .dataframe thead th {\n",
       "        text-align: left;\n",
       "    }\n",
       "\n",
       "    .dataframe tbody tr th {\n",
       "        vertical-align: top;\n",
       "    }\n",
       "</style>\n",
       "<table border=\"1\" class=\"dataframe\">\n",
       "  <thead>\n",
       "    <tr style=\"text-align: right;\">\n",
       "      <th></th>\n",
       "      <th>counter</th>\n",
       "      <th>machine_type</th>\n",
       "      <th>type</th>\n",
       "      <th>bed</th>\n",
       "      <th>mins_diff</th>\n",
       "      <th>datetime</th>\n",
       "      <th>date</th>\n",
       "      <th>time</th>\n",
       "      <th>_00</th>\n",
       "      <th>_01</th>\n",
       "      <th>...</th>\n",
       "      <th>_52</th>\n",
       "      <th>_53</th>\n",
       "      <th>_54</th>\n",
       "      <th>_55</th>\n",
       "      <th>_56</th>\n",
       "      <th>_57</th>\n",
       "      <th>_58</th>\n",
       "      <th>_59</th>\n",
       "      <th>seconds</th>\n",
       "      <th>key</th>\n",
       "    </tr>\n",
       "  </thead>\n",
       "  <tbody>\n",
       "    <tr>\n",
       "      <th>2913</th>\n",
       "      <td>2914</td>\n",
       "      <td>1</td>\n",
       "      <td>1</td>\n",
       "      <td>LDR2</td>\n",
       "      <td>2960152</td>\n",
       "      <td>2013-01-15 15:52:00</td>\n",
       "      <td>2013-01-15</td>\n",
       "      <td>15:52:00</td>\n",
       "      <td>20</td>\n",
       "      <td>20</td>\n",
       "      <td>...</td>\n",
       "      <td>20</td>\n",
       "      <td>20</td>\n",
       "      <td>20</td>\n",
       "      <td>20</td>\n",
       "      <td>20</td>\n",
       "      <td>20</td>\n",
       "      <td>20</td>\n",
       "      <td>20</td>\n",
       "      <td>57120</td>\n",
       "      <td>2013-01-15 57120</td>\n",
       "    </tr>\n",
       "    <tr>\n",
       "      <th>2914</th>\n",
       "      <td>2915</td>\n",
       "      <td>1</td>\n",
       "      <td>1</td>\n",
       "      <td>LDR2</td>\n",
       "      <td>2960153</td>\n",
       "      <td>2013-01-15 15:53:00</td>\n",
       "      <td>2013-01-15</td>\n",
       "      <td>15:53:00</td>\n",
       "      <td>20</td>\n",
       "      <td>20</td>\n",
       "      <td>...</td>\n",
       "      <td>21</td>\n",
       "      <td>21</td>\n",
       "      <td>21</td>\n",
       "      <td>21</td>\n",
       "      <td>21</td>\n",
       "      <td>21</td>\n",
       "      <td>21</td>\n",
       "      <td>21</td>\n",
       "      <td>57180</td>\n",
       "      <td>2013-01-15 57180</td>\n",
       "    </tr>\n",
       "    <tr>\n",
       "      <th>2915</th>\n",
       "      <td>2916</td>\n",
       "      <td>1</td>\n",
       "      <td>1</td>\n",
       "      <td>LDR2</td>\n",
       "      <td>2960154</td>\n",
       "      <td>2013-01-15 15:54:00</td>\n",
       "      <td>2013-01-15</td>\n",
       "      <td>15:54:00</td>\n",
       "      <td>21</td>\n",
       "      <td>21</td>\n",
       "      <td>...</td>\n",
       "      <td>21</td>\n",
       "      <td>21</td>\n",
       "      <td>21</td>\n",
       "      <td>21</td>\n",
       "      <td>21</td>\n",
       "      <td>21</td>\n",
       "      <td>21</td>\n",
       "      <td>21</td>\n",
       "      <td>57240</td>\n",
       "      <td>2013-01-15 57240</td>\n",
       "    </tr>\n",
       "  </tbody>\n",
       "</table>\n",
       "<p>3 rows × 70 columns</p>\n",
       "</div>"
      ],
      "text/plain": [
       "      counter  machine_type  type   bed  mins_diff             datetime  \\\n",
       "2913     2914             1     1  LDR2    2960152  2013-01-15 15:52:00   \n",
       "2914     2915             1     1  LDR2    2960153  2013-01-15 15:53:00   \n",
       "2915     2916             1     1  LDR2    2960154  2013-01-15 15:54:00   \n",
       "\n",
       "            date      time  _00  _01        ...         _52  _53  _54  _55  \\\n",
       "2913  2013-01-15  15:52:00   20   20        ...          20   20   20   20   \n",
       "2914  2013-01-15  15:53:00   20   20        ...          21   21   21   21   \n",
       "2915  2013-01-15  15:54:00   21   21        ...          21   21   21   21   \n",
       "\n",
       "      _56  _57  _58  _59  seconds               key  \n",
       "2913   20   20   20   20    57120  2013-01-15 57120  \n",
       "2914   21   21   21   21    57180  2013-01-15 57180  \n",
       "2915   21   21   21   21    57240  2013-01-15 57240  \n",
       "\n",
       "[3 rows x 70 columns]"
      ]
     },
     "execution_count": 19,
     "metadata": {},
     "output_type": "execute_result"
    }
   ],
   "source": [
    "mm_dx.head(3)"
   ]
  },
  {
   "cell_type": "code",
   "execution_count": 20,
   "metadata": {},
   "outputs": [
    {
     "name": "stdout",
     "output_type": "stream",
     "text": [
      "_00\t_01\t_02\t_03\t_04\t_05\t_06\t_07\t_08\t_09\t_10\t_11\t_12\t_13\t_14\t_15\t_16\t_17\t_18\t_19\t_20\t_21\t_22\t_23\t_24\t_25\t_26\t_27\t_28\t_29\t_30\t_31\t_32\t_33\t_34\t_35\t_36\t_37\t_38\t_39\t_40\t_41\t_42\t_43\t_44\t_45\t_46\t_47\t_48\t_49\t_50\t_51\t_52\t_53\t_54\t_55\t_56\t_57\t_58\t_59\t"
     ]
    }
   ],
   "source": [
    "mm_val_idx = list()\n",
    "for k in mm_dx.columns:\n",
    "    if len(k) == 3 and '_' in k:\n",
    "        mm_val_idx.append(k)\n",
    "        print(k, end='\\t')"
   ]
  },
  {
   "cell_type": "code",
   "execution_count": 21,
   "metadata": {},
   "outputs": [
    {
     "name": "stdout",
     "output_type": "stream",
     "text": [
      "_00\t_01\t_02\t_03\t_04\t_05\t_06\t_07\t_08\t_09\t_10\t_11\t_12\t_13\t_14\t_15\t_16\t_17\t_18\t_19\t_20\t_21\t_22\t_23\t_24\t_25\t_26\t_27\t_28\t_29\t_30\t_31\t_32\t_33\t_34\t_35\t_36\t_37\t_38\t_39\t_40\t_41\t_42\t_43\t_44\t_45\t_46\t_47\t_48\t_49\t_50\t_51\t_52\t_53\t_54\t_55\t_56\t_57\t_58\t_59\t"
     ]
    }
   ],
   "source": [
    "bb_val_idx = list()\n",
    "for k in bb_dx.columns:\n",
    "    if len(k) == 3 and '_' in k:\n",
    "        bb_val_idx.append(k)\n",
    "        print(k, end='\\t')"
   ]
  },
  {
   "cell_type": "code",
   "execution_count": 22,
   "metadata": {},
   "outputs": [
    {
     "data": {
      "text/plain": [
       "0      2013-01-15 62400\n",
       "1      2013-01-15 64440\n",
       "2      2013-01-15 65700\n",
       "3      2013-01-15 66540\n",
       "4      2013-01-15 67140\n",
       "5      2013-01-15 69540\n",
       "6      2013-01-15 71820\n",
       "7      2013-01-15 73140\n",
       "8      2013-01-15 74940\n",
       "9      2013-01-15 76140\n",
       "10     2013-01-15 77340\n",
       "11     2013-01-18 30840\n",
       "12     2013-01-18 51240\n",
       "13     2013-01-28 11580\n",
       "14     2013-01-28 19380\n",
       "15     2013-02-15 54180\n",
       "16     2013-02-21 27480\n",
       "17       2013-03-03 960\n",
       "18     2013-03-06 76260\n",
       "19     2013-04-17 63840\n",
       "20     2013-05-01 55980\n",
       "21     2013-05-01 58980\n",
       "22     2013-05-01 63180\n",
       "23     2013-05-14 61740\n",
       "24     2013-05-19 76980\n",
       "25     2013-05-20 33120\n",
       "26     2013-05-25 37380\n",
       "27     2013-05-25 48180\n",
       "28     2013-05-27 47580\n",
       "29     2013-05-27 47580\n",
       "             ...       \n",
       "177    2017-05-07 79740\n",
       "178    2017-05-13 16740\n",
       "179    2017-05-13 22140\n",
       "180    2017-05-13 29340\n",
       "181    2017-06-10 46320\n",
       "182    2017-08-16 69720\n",
       "183    2017-08-23 55140\n",
       "184    2017-09-12 59280\n",
       "185    2017-09-12 81300\n",
       "186    2017-09-13 15360\n",
       "187     2017-09-13 2280\n",
       "188    2017-09-13 51480\n",
       "189    2017-09-13 52080\n",
       "190     2017-09-13 8880\n",
       "191    2017-09-20 40200\n",
       "192    2017-09-21 73980\n",
       "193    2017-09-26 34140\n",
       "194    2017-09-27 51960\n",
       "195    2017-09-27 56040\n",
       "196    2017-10-17 58800\n",
       "197    2017-11-09 56520\n",
       "198    2017-11-17 50820\n",
       "199    2017-11-17 57420\n",
       "200    2018-01-19 15840\n",
       "201    2018-01-19 18840\n",
       "202    2018-03-25 42420\n",
       "203    2018-03-25 43020\n",
       "204     2018-03-28 1680\n",
       "205    2018-06-19 77760\n",
       "206    2018-06-29 44880\n",
       "Name: key, Length: 207, dtype: object"
      ]
     },
     "execution_count": 22,
     "metadata": {},
     "output_type": "execute_result"
    }
   ],
   "source": [
    "dy.key"
   ]
  },
  {
   "cell_type": "code",
   "execution_count": 23,
   "metadata": {
    "collapsed": true
   },
   "outputs": [],
   "source": [
    "M_list = list()\n",
    "for k in dy.key:\n",
    "    try:\n",
    "        i = list(mm_dx.key).index(k)\n",
    "\n",
    "        tmp = mm_dx[i:(i+10)]\n",
    "        checkpoint = tmp.seconds.tolist()\n",
    "        if (checkpoint[-1] - checkpoint[0]) == 60*9:\n",
    "            M_list.append(np.array(mm_dx[i:(i+10)][mm_val_idx]).reshape(-1))\n",
    "            continue\n",
    "        else:\n",
    "            print('%s has problem' % k)\n",
    "    except ValueError as err:\n",
    "        print(err)"
   ]
  },
  {
   "cell_type": "code",
   "execution_count": 24,
   "metadata": {
    "collapsed": true
   },
   "outputs": [],
   "source": [
    "B_list = list()\n",
    "for k in dy.key:\n",
    "    try:\n",
    "        i = list(bb_dx.key).index(k)\n",
    "        tmp = bb_dx[i:(i+10)]\n",
    "        checkpoint = tmp.seconds.tolist()\n",
    "        if (checkpoint[-1] - checkpoint[0]) == 60*9:\n",
    "            B_list.append(np.array(bb_dx[i:(i+10)][bb_val_idx]).reshape(-1))\n",
    "            continue\n",
    "        else:\n",
    "            print('%s has problem' % k)\n",
    "    except ValueError as err:\n",
    "        print(err)"
   ]
  },
  {
   "cell_type": "code",
   "execution_count": 25,
   "metadata": {
    "collapsed": true
   },
   "outputs": [],
   "source": [
    "M = pd.DataFrame(M_list, columns=['m-{0:0>3}'.format(i) for i in range(len(M_list[0]))])\n",
    "\n",
    "B = pd.DataFrame(B_list, columns=['b-{0:0>3}'.format(i) for i in range(len(B_list[0]))])"
   ]
  },
  {
   "cell_type": "code",
   "execution_count": 26,
   "metadata": {},
   "outputs": [
    {
     "data": {
      "text/plain": [
       "(207, 600)"
      ]
     },
     "execution_count": 26,
     "metadata": {},
     "output_type": "execute_result"
    }
   ],
   "source": [
    "B.shape"
   ]
  },
  {
   "cell_type": "code",
   "execution_count": 27,
   "metadata": {},
   "outputs": [
    {
     "data": {
      "text/plain": [
       "(207, 600)"
      ]
     },
     "execution_count": 27,
     "metadata": {},
     "output_type": "execute_result"
    }
   ],
   "source": [
    "M.shape"
   ]
  },
  {
   "cell_type": "code",
   "execution_count": 28,
   "metadata": {},
   "outputs": [
    {
     "data": {
      "text/plain": [
       "(207, 15)"
      ]
     },
     "execution_count": 28,
     "metadata": {},
     "output_type": "execute_result"
    }
   ],
   "source": [
    "dy.shape"
   ]
  },
  {
   "cell_type": "code",
   "execution_count": 29,
   "metadata": {
    "collapsed": true
   },
   "outputs": [],
   "source": [
    "dM = pd.concat([dy, M], axis=1)\n",
    "\n",
    "dM.to_csv(os.path.join(process_data_dir, 'data_M.csv'), index=False)"
   ]
  },
  {
   "cell_type": "code",
   "execution_count": 30,
   "metadata": {
    "collapsed": true
   },
   "outputs": [],
   "source": [
    "dB = pd.concat([dy, B], axis=1)\n",
    "\n",
    "dB.to_csv(os.path.join(process_data_dir, 'data_B.csv'), index=False)"
   ]
  },
  {
   "cell_type": "code",
   "execution_count": 31,
   "metadata": {
    "collapsed": true
   },
   "outputs": [],
   "source": [
    "df = pd.concat([dy, M], axis=1)\n",
    "df = pd.concat([df, B], axis=1)\n",
    "\n",
    "df.to_csv(os.path.join(process_data_dir, 'data_merged.csv'), index=False)"
   ]
  },
  {
   "cell_type": "code",
   "execution_count": null,
   "metadata": {
    "collapsed": true
   },
   "outputs": [],
   "source": []
  }
 ],
 "metadata": {
  "kernelspec": {
   "display_name": "Python 3",
   "language": "python",
   "name": "python3"
  },
  "language_info": {
   "codemirror_mode": {
    "name": "ipython",
    "version": 3
   },
   "file_extension": ".py",
   "mimetype": "text/x-python",
   "name": "python",
   "nbconvert_exporter": "python",
   "pygments_lexer": "ipython3",
   "version": "3.5.2"
  }
 },
 "nbformat": 4,
 "nbformat_minor": 2
}
